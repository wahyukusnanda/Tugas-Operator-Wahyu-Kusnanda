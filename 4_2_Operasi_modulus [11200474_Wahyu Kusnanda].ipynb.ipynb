{
  "nbformat": 4,
  "nbformat_minor": 0,
  "metadata": {
    "colab": {
      "name": "4_2_Operasi_modulus.ipynb",
      "provenance": [],
      "collapsed_sections": []
    },
    "kernelspec": {
      "name": "python3",
      "display_name": "Python 3"
    }
  },
  "cells": [
    {
      "cell_type": "code",
      "metadata": {
        "id": "vcWWM9-jNgXb"
      },
      "source": [
        ""
      ],
      "execution_count": null,
      "outputs": []
    },
    {
      "cell_type": "markdown",
      "metadata": {
        "id": "tPBAeoa4NxzC"
      },
      "source": [
        "**Operasi modulus**\n",
        "\n",
        "Modulus memang jarang dipakai namun, dibeberapa kasus modulus sangat berguna untuk mempercepat proses perhitungan. Modulus sendiri merupakan fungsi yang akan menghitung sisa dari hasil pembagian. Untuk lebih jelasnya silahkan lakukan praktek di bawah ini :\n",
        "``` javascript\n",
        "c=10\n",
        "d=3\n",
        "\n",
        "modulus=c%d\n",
        "print(\"Hasil modulus\",modulus)\n",
        "```\n",
        "Ketikan code cell di bawah ini pada editor:"
      ]
    },
    {
      "cell_type": "code",
      "metadata": {
        "id": "fhfc8ABhOxQa"
      },
      "source": [
        ""
      ],
      "execution_count": null,
      "outputs": []
    },
    {
      "cell_type": "markdown",
      "metadata": {
        "id": "RN5KlLwivXl3"
      },
      "source": [
        "**Operasi modulus**\n",
        "\n",
        "Modulus memang jarang dipakai namun, dibeberapa kasus modulus sangat berguna untuk mempercepat proses perhitungan. Modulus sendiri merupakan fungsi yang akan menghitung sisa dari hasil pembagian. Untuk lebih jelasnya silahkan lakukan praktek di bawah ini :\n",
        "``` javascript\n",
        "c=10\n",
        "d=3\n",
        "\n",
        "modulus=c%d\n",
        "print(\"Hasil modulus\",modulus)\n",
        "```\n",
        "Ketikan code cell di bawah ini pada editor:"
      ]
    },
    {
      "cell_type": "markdown",
      "metadata": {
        "id": "dvFFTUG2O_Cb"
      },
      "source": [
        "Kenapa modulus bisa seperti itu? (berikan jawaban anda pada cell teks diabawah ini)"
      ]
    },
    {
      "cell_type": "markdown",
      "metadata": {
        "id": "Fn8nPF6TPEGa"
      },
      "source": [
        "##Jawaban Keterangan \n",
        "...."
      ]
    },
    {
      "cell_type": "markdown",
      "metadata": {
        "id": "9cJpNRWsvbF-"
      },
      "source": [
        "operasi modulus adalah sebuah operasi yang menghasilkan sisa pembagian dari suatu bilangan terhadap bilangan lainnya. Dalam bahasa pemrograman operasi ini umumnya dilambangkan dengan simbol %, mod atau modulo, tergantung bahasa pemrograman yang digunakan.\n"
      ]
    }
  ]
}