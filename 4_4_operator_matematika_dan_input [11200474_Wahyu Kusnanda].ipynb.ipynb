{
  "nbformat": 4,
  "nbformat_minor": 0,
  "metadata": {
    "colab": {
      "name": "4_4_operator_matematika_dan_input.ipynb",
      "provenance": [],
      "collapsed_sections": []
    },
    "kernelspec": {
      "name": "python3",
      "display_name": "Python 3"
    }
  },
  "cells": [
    {
      "cell_type": "code",
      "metadata": {
        "id": "f7WajviOKztl"
      },
      "source": [
        ""
      ],
      "execution_count": null,
      "outputs": []
    },
    {
      "cell_type": "markdown",
      "metadata": {
        "id": "Zf9uJW37LCfb"
      },
      "source": [
        "**Praktek Operasi Input Dan Operator Matematika**\n",
        "\n",
        "Bukalah kembali praktek operator matematika.\n",
        "\n",
        "Ubahlah agar variable **a** dan **b** menggunakan input dari keyboard\n",
        "\n",
        "\n",
        "Implementasikan code di bawah ini pada kode cell editor:\n",
        "``` javascript\n",
        "selisih = a-b\n",
        "jumlah = a+b\n",
        "kali = a*b\n",
        "bagi = a/b\n",
        "print(\"Hasil penjumlahan dan b adalah\", jumlah)\n",
        "print(\"Selisih a dan b adalah :\",selisih)\n",
        "print(\"Hasil perkalian a dan b adalah :\",kali)\n",
        "print(\"Hasil  pembagian a dan b adalah:\",bagi)\n",
        "\n",
        "``` \n",
        " \n",
        "\n",
        "Ketikan pada code cell di bawah ini pada editor:"
      ]
    },
    {
      "cell_type": "code",
      "metadata": {
        "id": "hYGfkiKOMo_x",
        "outputId": "20a7adc9-9dcd-4096-bd51-da521bad0d4b",
        "colab": {
          "base_uri": "https://localhost:8080/"
        }
      },
      "source": [
        "##Jawaban Tugas Praktek 3.4\n",
        "a=30\n",
        "b=15\n",
        "selisih = a-b\n",
        "jumlah = a+b\n",
        "kali = a*b\n",
        "bagi = a/b\n",
        "print(\"Hasil penjumlahan dan b adalah\", jumlah)\n",
        "print(\"Selisih a dan b adalah :\",selisih)\n",
        "print(\"Hasil perkalian a dan b adalah :\",kali)\n",
        "print(\"Hasil  pembagian a dan b adalah:\",bagi)\n"
      ],
      "execution_count": 2,
      "outputs": [
        {
          "output_type": "stream",
          "name": "stdout",
          "text": [
            "Hasil penjumlahan dan b adalah 45\n",
            "Selisih a dan b adalah : 15\n",
            "Hasil perkalian a dan b adalah : 450\n",
            "Hasil  pembagian a dan b adalah: 2.0\n"
          ]
        }
      ]
    }
  ]
}